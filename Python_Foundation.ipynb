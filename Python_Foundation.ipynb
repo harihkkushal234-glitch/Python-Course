{
  "nbformat": 4,
  "nbformat_minor": 0,
  "metadata": {
    "colab": {
      "provenance": [],
      "authorship_tag": "ABX9TyOUHBETUFyMT68MXC7NvE5i",
      "include_colab_link": true
    },
    "kernelspec": {
      "name": "python3",
      "display_name": "Python 3"
    },
    "language_info": {
      "name": "python"
    }
  },
  "cells": [
    {
      "cell_type": "markdown",
      "metadata": {
        "id": "view-in-github",
        "colab_type": "text"
      },
      "source": [
        "<a href=\"https://colab.research.google.com/github/harihkkushal234-glitch/Python-Course/blob/main/Python_Foundation.ipynb\" target=\"_parent\"><img src=\"https://colab.research.google.com/assets/colab-badge.svg\" alt=\"Open In Colab\"/></a>"
      ]
    },
    {
      "cell_type": "code",
      "execution_count": null,
      "metadata": {
        "id": "e82eJlVMR1aa",
        "colab": {
          "base_uri": "https://localhost:8080/"
        },
        "outputId": "64a5b25a-a53b-4bb4-bb84-3543d599a86b"
      },
      "outputs": [
        {
          "output_type": "stream",
          "name": "stdout",
          "text": [
            "This is my first code!\n"
          ]
        }
      ],
      "source": [
        "print(\"This is my first code!\")"
      ]
    },
    {
      "cell_type": "code",
      "source": [
        "employee_name = \"sagar\"\n",
        "employee_add = \"Ramanagara\"\n"
      ],
      "metadata": {
        "id": "Ah-sn6xu7EgE"
      },
      "execution_count": null,
      "outputs": []
    },
    {
      "cell_type": "code",
      "source": [
        "employee_name"
      ],
      "metadata": {
        "colab": {
          "base_uri": "https://localhost:8080/",
          "height": 36
        },
        "id": "zsahjTsM7czZ",
        "outputId": "316d37a5-1160-48b2-91b8-30f353e5bc62"
      },
      "execution_count": null,
      "outputs": [
        {
          "output_type": "execute_result",
          "data": {
            "text/plain": [
              "'sagar'"
            ],
            "application/vnd.google.colaboratory.intrinsic+json": {
              "type": "string"
            }
          },
          "metadata": {},
          "execution_count": 58
        }
      ]
    },
    {
      "cell_type": "code",
      "source": [
        "employee_add"
      ],
      "metadata": {
        "colab": {
          "base_uri": "https://localhost:8080/",
          "height": 36
        },
        "id": "3UM1QWjx8CxP",
        "outputId": "d31afbfd-76d0-4b6a-a3a5-fd5bc2f55e71"
      },
      "execution_count": null,
      "outputs": [
        {
          "output_type": "execute_result",
          "data": {
            "text/plain": [
              "'Ramanagara'"
            ],
            "application/vnd.google.colaboratory.intrinsic+json": {
              "type": "string"
            }
          },
          "metadata": {},
          "execution_count": 59
        }
      ]
    },
    {
      "cell_type": "code",
      "source": [
        "a1 = 100\n",
        "a1"
      ],
      "metadata": {
        "colab": {
          "base_uri": "https://localhost:8080/"
        },
        "id": "eHuVjzBi9VRf",
        "outputId": "47b1676f-e364-420e-cec6-9c9f41632bf8"
      },
      "execution_count": null,
      "outputs": [
        {
          "output_type": "execute_result",
          "data": {
            "text/plain": [
              "100"
            ]
          },
          "metadata": {},
          "execution_count": 60
        }
      ]
    },
    {
      "cell_type": "code",
      "source": [
        "type(a1)"
      ],
      "metadata": {
        "colab": {
          "base_uri": "https://localhost:8080/"
        },
        "id": "4M_IWdjf9t0N",
        "outputId": "c581f0e0-998d-44fb-cdcc-230f4fd7340d"
      },
      "execution_count": null,
      "outputs": [
        {
          "output_type": "execute_result",
          "data": {
            "text/plain": [
              "int"
            ]
          },
          "metadata": {},
          "execution_count": 61
        }
      ]
    },
    {
      "cell_type": "code",
      "source": [
        "a1 = 3.14\n",
        "type(a1)"
      ],
      "metadata": {
        "colab": {
          "base_uri": "https://localhost:8080/"
        },
        "id": "SVWE0BKF9u3l",
        "outputId": "67c4fcfc-4dfe-4b17-9069-33d51405e4aa"
      },
      "execution_count": null,
      "outputs": [
        {
          "output_type": "execute_result",
          "data": {
            "text/plain": [
              "float"
            ]
          },
          "metadata": {},
          "execution_count": 62
        }
      ]
    },
    {
      "cell_type": "code",
      "source": [
        "4/2 == 2"
      ],
      "metadata": {
        "colab": {
          "base_uri": "https://localhost:8080/"
        },
        "id": "vl9luOZI9vGH",
        "outputId": "aa0672d8-ce53-4f3a-cec1-6ae3d7aa6d62"
      },
      "execution_count": null,
      "outputs": [
        {
          "output_type": "execute_result",
          "data": {
            "text/plain": [
              "True"
            ]
          },
          "metadata": {},
          "execution_count": 63
        }
      ]
    },
    {
      "cell_type": "code",
      "source": [
        "a=10\n",
        "b=20"
      ],
      "metadata": {
        "id": "YayGOgv49vN4"
      },
      "execution_count": null,
      "outputs": []
    },
    {
      "cell_type": "code",
      "source": [
        "a+b"
      ],
      "metadata": {
        "colab": {
          "base_uri": "https://localhost:8080/"
        },
        "id": "YOxyMYw09vTj",
        "outputId": "e624f0f0-9283-433b-fc15-321ff8a535b4"
      },
      "execution_count": null,
      "outputs": [
        {
          "output_type": "execute_result",
          "data": {
            "text/plain": [
              "30"
            ]
          },
          "metadata": {},
          "execution_count": 65
        }
      ]
    },
    {
      "cell_type": "code",
      "source": [
        "a-b"
      ],
      "metadata": {
        "colab": {
          "base_uri": "https://localhost:8080/"
        },
        "id": "uRlTOJp1FDWz",
        "outputId": "5274bf38-cafa-4c4a-c258-d1487817b059"
      },
      "execution_count": null,
      "outputs": [
        {
          "output_type": "execute_result",
          "data": {
            "text/plain": [
              "-10"
            ]
          },
          "metadata": {},
          "execution_count": 66
        }
      ]
    },
    {
      "cell_type": "code",
      "source": [
        "b-a"
      ],
      "metadata": {
        "colab": {
          "base_uri": "https://localhost:8080/"
        },
        "id": "23Scfw0wFDnO",
        "outputId": "3509f167-19cf-4542-a61e-56af0190691b"
      },
      "execution_count": null,
      "outputs": [
        {
          "output_type": "execute_result",
          "data": {
            "text/plain": [
              "10"
            ]
          },
          "metadata": {},
          "execution_count": 67
        }
      ]
    },
    {
      "cell_type": "code",
      "source": [
        "a*b"
      ],
      "metadata": {
        "colab": {
          "base_uri": "https://localhost:8080/"
        },
        "id": "yZeLqLU1FDxY",
        "outputId": "387681a9-b77d-46be-e426-93246acfc664"
      },
      "execution_count": null,
      "outputs": [
        {
          "output_type": "execute_result",
          "data": {
            "text/plain": [
              "200"
            ]
          },
          "metadata": {},
          "execution_count": 68
        }
      ]
    },
    {
      "cell_type": "code",
      "source": [
        "a/b"
      ],
      "metadata": {
        "colab": {
          "base_uri": "https://localhost:8080/"
        },
        "id": "Kw-UXu9YFD7Y",
        "outputId": "d114824e-5c5b-4695-89fd-7adb717d3734"
      },
      "execution_count": null,
      "outputs": [
        {
          "output_type": "execute_result",
          "data": {
            "text/plain": [
              "0.5"
            ]
          },
          "metadata": {},
          "execution_count": 69
        }
      ]
    },
    {
      "cell_type": "code",
      "source": [
        "#ralational oprators < , > , == , !="
      ],
      "metadata": {
        "id": "dFg81TtDGA9t"
      },
      "execution_count": null,
      "outputs": []
    },
    {
      "cell_type": "code",
      "source": [
        "a>b"
      ],
      "metadata": {
        "colab": {
          "base_uri": "https://localhost:8080/"
        },
        "id": "Tz9M4vU1GBHV",
        "outputId": "8008e607-79f7-4793-e9a6-31b64b7c8f9f"
      },
      "execution_count": null,
      "outputs": [
        {
          "output_type": "execute_result",
          "data": {
            "text/plain": [
              "False"
            ]
          },
          "metadata": {},
          "execution_count": 71
        }
      ]
    },
    {
      "cell_type": "code",
      "source": [
        "a<b"
      ],
      "metadata": {
        "colab": {
          "base_uri": "https://localhost:8080/"
        },
        "id": "spX5xnKHGBOB",
        "outputId": "1ae7a072-448e-420d-a4a1-845b9d4dfd2d"
      },
      "execution_count": null,
      "outputs": [
        {
          "output_type": "execute_result",
          "data": {
            "text/plain": [
              "True"
            ]
          },
          "metadata": {},
          "execution_count": 72
        }
      ]
    },
    {
      "cell_type": "code",
      "source": [
        "a==b"
      ],
      "metadata": {
        "colab": {
          "base_uri": "https://localhost:8080/"
        },
        "id": "RNV1blGEGBVs",
        "outputId": "e735995f-928c-4ad2-e65a-e4e787d956ff"
      },
      "execution_count": null,
      "outputs": [
        {
          "output_type": "execute_result",
          "data": {
            "text/plain": [
              "False"
            ]
          },
          "metadata": {},
          "execution_count": 73
        }
      ]
    },
    {
      "cell_type": "code",
      "source": [
        "a!=b"
      ],
      "metadata": {
        "colab": {
          "base_uri": "https://localhost:8080/"
        },
        "id": "GB5KGmRgIgp6",
        "outputId": "70842edb-26dd-413e-ac14-3c882f725a85"
      },
      "execution_count": null,
      "outputs": [
        {
          "output_type": "execute_result",
          "data": {
            "text/plain": [
              "True"
            ]
          },
          "metadata": {},
          "execution_count": 74
        }
      ]
    },
    {
      "cell_type": "code",
      "source": [
        "a=100\n",
        "b=100"
      ],
      "metadata": {
        "id": "bbsHhv7TIg5-"
      },
      "execution_count": null,
      "outputs": []
    },
    {
      "cell_type": "code",
      "source": [
        "a==b"
      ],
      "metadata": {
        "colab": {
          "base_uri": "https://localhost:8080/"
        },
        "id": "JDapk28EIhB4",
        "outputId": "8f868120-4164-4bb9-c714-cfa5d0670a6f"
      },
      "execution_count": null,
      "outputs": [
        {
          "output_type": "execute_result",
          "data": {
            "text/plain": [
              "True"
            ]
          },
          "metadata": {},
          "execution_count": 76
        }
      ]
    },
    {
      "cell_type": "code",
      "source": [
        "#logical operator & |\n"
      ],
      "metadata": {
        "id": "1s1BzEzLIhK6"
      },
      "execution_count": null,
      "outputs": []
    },
    {
      "cell_type": "code",
      "source": [
        "#list\n",
        "l1 = [1,'a',True]"
      ],
      "metadata": {
        "id": "6kPOSKbqKY6k"
      },
      "execution_count": null,
      "outputs": []
    },
    {
      "cell_type": "code",
      "source": [
        "l1 = [1,\"sagar\",3.14,True,3+5j]"
      ],
      "metadata": {
        "id": "IRhwmaAIKZND"
      },
      "execution_count": null,
      "outputs": []
    },
    {
      "cell_type": "code",
      "source": [
        "l1"
      ],
      "metadata": {
        "colab": {
          "base_uri": "https://localhost:8080/"
        },
        "id": "kQz3PncOKZd5",
        "outputId": "4226f15c-6db8-4292-ac6e-2eff595814ae"
      },
      "execution_count": null,
      "outputs": [
        {
          "output_type": "execute_result",
          "data": {
            "text/plain": [
              "[1, 'sagar', 3.14, True, (3+5j)]"
            ]
          },
          "metadata": {},
          "execution_count": 88
        }
      ]
    },
    {
      "cell_type": "code",
      "source": [
        "type(l1)"
      ],
      "metadata": {
        "colab": {
          "base_uri": "https://localhost:8080/"
        },
        "id": "VagwzkNHPnVV",
        "outputId": "7bcd4a92-5384-421e-b628-651c91504a81"
      },
      "execution_count": null,
      "outputs": [
        {
          "output_type": "execute_result",
          "data": {
            "text/plain": [
              "list"
            ]
          },
          "metadata": {},
          "execution_count": 89
        }
      ]
    },
    {
      "cell_type": "code",
      "source": [
        "l1[-1]"
      ],
      "metadata": {
        "colab": {
          "base_uri": "https://localhost:8080/"
        },
        "id": "OifQFZIwPnfj",
        "outputId": "9735b317-63de-4669-bded-a39c9bcde333"
      },
      "execution_count": null,
      "outputs": [
        {
          "output_type": "execute_result",
          "data": {
            "text/plain": [
              "(3+5j)"
            ]
          },
          "metadata": {},
          "execution_count": 90
        }
      ]
    },
    {
      "cell_type": "code",
      "source": [
        "l1[1:4]"
      ],
      "metadata": {
        "colab": {
          "base_uri": "https://localhost:8080/"
        },
        "id": "rHoASMzhPnlE",
        "outputId": "607c1965-af6f-44f3-8e85-046c2dce78fe"
      },
      "execution_count": null,
      "outputs": [
        {
          "output_type": "execute_result",
          "data": {
            "text/plain": [
              "['sagar', 3.14, True]"
            ]
          },
          "metadata": {},
          "execution_count": 91
        }
      ]
    },
    {
      "cell_type": "code",
      "source": [
        "l1[1:5]"
      ],
      "metadata": {
        "colab": {
          "base_uri": "https://localhost:8080/"
        },
        "id": "SDZwsrvbPnpw",
        "outputId": "37087cf6-8be7-4931-883e-89830d8258e9"
      },
      "execution_count": null,
      "outputs": [
        {
          "output_type": "execute_result",
          "data": {
            "text/plain": [
              "['sagar', 3.14, True, (3+5j)]"
            ]
          },
          "metadata": {},
          "execution_count": 92
        }
      ]
    },
    {
      "cell_type": "code",
      "source": [
        "l1[2:4]"
      ],
      "metadata": {
        "colab": {
          "base_uri": "https://localhost:8080/"
        },
        "id": "wCQo3lDxPnuN",
        "outputId": "de077ada-3283-4d2c-f48d-3b82f7e4b43d"
      },
      "execution_count": null,
      "outputs": [
        {
          "output_type": "execute_result",
          "data": {
            "text/plain": [
              "[3.14, True]"
            ]
          },
          "metadata": {},
          "execution_count": 93
        }
      ]
    },
    {
      "cell_type": "code",
      "source": [
        "matrix = [[1,2,3],\n",
        "          [3,4,5]]\n",
        "matrix"
      ],
      "metadata": {
        "colab": {
          "base_uri": "https://localhost:8080/"
        },
        "id": "fEPgH6gPPnx3",
        "outputId": "f056ac0c-b2b0-4803-f4a3-ffe332bbed9f"
      },
      "execution_count": null,
      "outputs": [
        {
          "output_type": "execute_result",
          "data": {
            "text/plain": [
              "[[1, 2, 3], [3, 4, 5]]"
            ]
          },
          "metadata": {},
          "execution_count": 5
        }
      ]
    },
    {
      "cell_type": "code",
      "source": [],
      "metadata": {
        "id": "2lohXfNoPn2S"
      },
      "execution_count": null,
      "outputs": []
    },
    {
      "cell_type": "code",
      "source": [
        "2!=3"
      ],
      "metadata": {
        "id": "m99swYljPn6Z",
        "colab": {
          "base_uri": "https://localhost:8080/"
        },
        "outputId": "8e01b5e7-403f-4357-9abd-dbf65497df53"
      },
      "execution_count": null,
      "outputs": [
        {
          "output_type": "execute_result",
          "data": {
            "text/plain": [
              "True"
            ]
          },
          "metadata": {},
          "execution_count": 1
        }
      ]
    },
    {
      "cell_type": "code",
      "source": [
        "2==3"
      ],
      "metadata": {
        "colab": {
          "base_uri": "https://localhost:8080/"
        },
        "id": "Vvm9O9b9Fvzk",
        "outputId": "b65c0821-275c-4e64-e87c-cfef7513f87e"
      },
      "execution_count": null,
      "outputs": [
        {
          "output_type": "execute_result",
          "data": {
            "text/plain": [
              "False"
            ]
          },
          "metadata": {},
          "execution_count": 4
        }
      ]
    },
    {
      "cell_type": "code",
      "source": [],
      "metadata": {
        "id": "GnN5t4RmKBRH"
      },
      "execution_count": null,
      "outputs": []
    },
    {
      "cell_type": "code",
      "source": [
        "p1 = [1, \"a\", 2, \"b\", 'sagarr']\n",
        "p1.append(\"hellow world\")\n",
        "p1"
      ],
      "metadata": {
        "colab": {
          "base_uri": "https://localhost:8080/"
        },
        "id": "N-c_k3BlFx49",
        "outputId": "55eea3b8-37f2-44de-a7f7-06721361ab18"
      },
      "execution_count": null,
      "outputs": [
        {
          "output_type": "execute_result",
          "data": {
            "text/plain": [
              "[1, 'a', 2, 'b', 'sagarr', 'hellow world']"
            ]
          },
          "metadata": {},
          "execution_count": 18
        }
      ]
    },
    {
      "cell_type": "code",
      "source": [
        "p1 = [1, \"a\", 2, \"b\", 'kushal']\n",
        "if p1 == 1:\n",
        "    print(\"True\")\n",
        "else:\n",
        "    print(\"False\")\n",
        "p1"
      ],
      "metadata": {
        "colab": {
          "base_uri": "https://localhost:8080/"
        },
        "outputId": "f163b614-d301-4078-f161-74d4464e8e57",
        "id": "UcHUqQvuMZgk"
      },
      "execution_count": null,
      "outputs": [
        {
          "output_type": "stream",
          "name": "stdout",
          "text": [
            "False\n"
          ]
        },
        {
          "output_type": "execute_result",
          "data": {
            "text/plain": [
              "[1, 'a', 2, 'b', 'kushal']"
            ]
          },
          "metadata": {},
          "execution_count": 25
        }
      ]
    },
    {
      "cell_type": "code",
      "source": [
        "p1 = [1, \"a\", 2, \"b\", 'kushal']\n",
        "if p1 == 1:\n",
        "    print(\"True\")\n",
        "else:\n",
        "    print(\"False\")\n",
        "p1.pop()\n",
        "p1"
      ],
      "metadata": {
        "colab": {
          "base_uri": "https://localhost:8080/"
        },
        "id": "4TdEB87RM1dG",
        "outputId": "63cc5758-851d-4580-f736-48866b53dd00"
      },
      "execution_count": null,
      "outputs": [
        {
          "output_type": "stream",
          "name": "stdout",
          "text": [
            "False\n"
          ]
        },
        {
          "output_type": "execute_result",
          "data": {
            "text/plain": [
              "[1, 'a', 2, 'b']"
            ]
          },
          "metadata": {},
          "execution_count": 28
        }
      ]
    },
    {
      "cell_type": "code",
      "source": [
        "p1 = [1, \"a\", 2, \"b\", 'kushal']\n",
        "p1.reverse()\n",
        "p1"
      ],
      "metadata": {
        "colab": {
          "base_uri": "https://localhost:8080/"
        },
        "id": "Kk0tLR5lM1q3",
        "outputId": "9df1d46f-d763-42d1-b063-398a25d8a2f2"
      },
      "execution_count": null,
      "outputs": [
        {
          "output_type": "execute_result",
          "data": {
            "text/plain": [
              "['kushal', 'b', 2, 'a', 1]"
            ]
          },
          "metadata": {},
          "execution_count": 30
        }
      ]
    },
    {
      "cell_type": "code",
      "source": [
        "p1 = [1, \"a\", 2, \"b\", 'kushal']\n",
        "p1.remove(2)\n",
        "p1"
      ],
      "metadata": {
        "colab": {
          "base_uri": "https://localhost:8080/"
        },
        "id": "vWAnuU87M1yS",
        "outputId": "e04cc4f6-5fd6-49de-e093-c7c8aa9f1075"
      },
      "execution_count": null,
      "outputs": [
        {
          "output_type": "execute_result",
          "data": {
            "text/plain": [
              "[1, 'a', 'b', 'kushal']"
            ]
          },
          "metadata": {},
          "execution_count": 31
        }
      ]
    },
    {
      "cell_type": "code",
      "source": [
        "p1 = [1, \"a\", 2, \"b\", 'kushal']\n",
        "p1.insert(2, \"ravana\")\n",
        "p1"
      ],
      "metadata": {
        "colab": {
          "base_uri": "https://localhost:8080/"
        },
        "id": "frE0HDg2Plh4",
        "outputId": "3a95f2c9-0a53-4169-8be7-e7ac5da5651a"
      },
      "execution_count": null,
      "outputs": [
        {
          "output_type": "execute_result",
          "data": {
            "text/plain": [
              "[1, 'a', 'ravana', 2, 'b', 'kushal']"
            ]
          },
          "metadata": {},
          "execution_count": 36
        }
      ]
    },
    {
      "cell_type": "code",
      "source": [
        "p1 = [\"apple\", \"bannana\", \"car\", \"zoo\", \"king\", \"chicken\"]\n",
        "p1.sort()\n",
        "p1"
      ],
      "metadata": {
        "colab": {
          "base_uri": "https://localhost:8080/"
        },
        "id": "rxRIGoyfPlvf",
        "outputId": "20d15b6a-572c-4517-87ca-60ed3d1b660b"
      },
      "execution_count": null,
      "outputs": [
        {
          "output_type": "execute_result",
          "data": {
            "text/plain": [
              "['apple', 'bannana', 'car', 'chicken', 'king', 'zoo']"
            ]
          },
          "metadata": {},
          "execution_count": 37
        }
      ]
    },
    {
      "cell_type": "code",
      "source": [
        "fruit={\"apple\":10,\"orange\":20,\"banana\":30}\n"
      ],
      "metadata": {
        "id": "wGpZXowEPl4c"
      },
      "execution_count": null,
      "outputs": []
    },
    {
      "cell_type": "code",
      "source": [
        "fruit.keys()\n"
      ],
      "metadata": {
        "colab": {
          "base_uri": "https://localhost:8080/"
        },
        "id": "OgwpRHTBPl_i",
        "outputId": "b8b3a4e5-4fd4-4916-cd02-c1e492af25d6"
      },
      "execution_count": null,
      "outputs": [
        {
          "output_type": "execute_result",
          "data": {
            "text/plain": [
              "dict_keys(['apple', 'orange', 'banana'])"
            ]
          },
          "metadata": {},
          "execution_count": 41
        }
      ]
    },
    {
      "cell_type": "code",
      "source": [
        "fruit.values()"
      ],
      "metadata": {
        "colab": {
          "base_uri": "https://localhost:8080/"
        },
        "id": "AUEVeBP3PmHK",
        "outputId": "8c3450be-7a31-4465-d5e2-f6cfd031e546"
      },
      "execution_count": null,
      "outputs": [
        {
          "output_type": "execute_result",
          "data": {
            "text/plain": [
              "dict_values([10, 20, 30])"
            ]
          },
          "metadata": {},
          "execution_count": 43
        }
      ]
    },
    {
      "cell_type": "code",
      "source": [
        "fruit.items()"
      ],
      "metadata": {
        "colab": {
          "base_uri": "https://localhost:8080/"
        },
        "id": "FAN1Qr4OPmO8",
        "outputId": "14a4e5cf-8863-49fa-c4f2-166e4ab1ba09"
      },
      "execution_count": null,
      "outputs": [
        {
          "output_type": "execute_result",
          "data": {
            "text/plain": [
              "dict_items([('apple', 10), ('orange', 20), ('banana', 30)])"
            ]
          },
          "metadata": {},
          "execution_count": 44
        }
      ]
    },
    {
      "cell_type": "code",
      "source": [
        "fruit={\"apple\":10,\"orange\":20,\"banana\":30}\n",
        "fruit[\"banana\"]=100\n",
        "fruit\n",
        "#"
      ],
      "metadata": {
        "colab": {
          "base_uri": "https://localhost:8080/"
        },
        "id": "2gHQT11KZDiC",
        "outputId": "3afdcc62-8bee-46df-cfa2-9bcedeeb5326"
      },
      "execution_count": null,
      "outputs": [
        {
          "output_type": "execute_result",
          "data": {
            "text/plain": [
              "{'apple': 10, 'orange': 20, 'banana': 100}"
            ]
          },
          "metadata": {},
          "execution_count": 46
        }
      ]
    },
    {
      "cell_type": "code",
      "source": [
        "fruit={\"apple\":10,\"orange\":20,\"banana\":30}\n",
        "fruit[\"kiwi\"]=100\n",
        "fruit"
      ],
      "metadata": {
        "colab": {
          "base_uri": "https://localhost:8080/"
        },
        "id": "80ZEEOhGZDrA",
        "outputId": "a41fb4e3-8d73-47f2-a4be-4dcada86a191"
      },
      "execution_count": null,
      "outputs": [
        {
          "output_type": "execute_result",
          "data": {
            "text/plain": [
              "{'apple': 10, 'orange': 20, 'banana': 30, 'kiwi': 100}"
            ]
          },
          "metadata": {},
          "execution_count": 47
        }
      ]
    },
    {
      "cell_type": "code",
      "source": [
        "s1 = {1,2,3,4,5,6,7}\n",
        "s2 = {5,6,7,8,9}\n"
      ],
      "metadata": {
        "id": "JfhiE3hUZDwr"
      },
      "execution_count": null,
      "outputs": []
    },
    {
      "cell_type": "code",
      "source": [
        "s1.union(s2)"
      ],
      "metadata": {
        "colab": {
          "base_uri": "https://localhost:8080/"
        },
        "id": "pwlyHfEqZD1V",
        "outputId": "2b529b18-563c-49e7-c887-a41970e2ac5d"
      },
      "execution_count": null,
      "outputs": [
        {
          "output_type": "execute_result",
          "data": {
            "text/plain": [
              "{1, 2, 3, 4, 5, 6, 7, 8, 9}"
            ]
          },
          "metadata": {},
          "execution_count": 49
        }
      ]
    },
    {
      "cell_type": "code",
      "source": [
        "s1.intersection(s2)\n"
      ],
      "metadata": {
        "colab": {
          "base_uri": "https://localhost:8080/"
        },
        "id": "78GJru3zZD6A",
        "outputId": "232dff16-e468-4d52-f200-e805307e3ff5"
      },
      "execution_count": null,
      "outputs": [
        {
          "output_type": "execute_result",
          "data": {
            "text/plain": [
              "{5, 6, 7}"
            ]
          },
          "metadata": {},
          "execution_count": 55
        }
      ]
    },
    {
      "cell_type": "code",
      "source": [
        "if 2+3==5:\n",
        "    print(\"true\")\n",
        "else:\n",
        "    print(\"false\")"
      ],
      "metadata": {
        "colab": {
          "base_uri": "https://localhost:8080/"
        },
        "id": "hh2E_y7BhcNE",
        "outputId": "b934c69d-0e45-470e-fc55-9035c6f3c125"
      },
      "execution_count": null,
      "outputs": [
        {
          "output_type": "stream",
          "name": "stdout",
          "text": [
            "true\n"
          ]
        }
      ]
    },
    {
      "cell_type": "code",
      "source": [
        "a=10\n",
        "b=30\n"
      ],
      "metadata": {
        "id": "Scz0nu7JjjjH"
      },
      "execution_count": null,
      "outputs": []
    },
    {
      "cell_type": "code",
      "source": [
        "if a>b:\n",
        "   print(\"a is grater then b\")\n",
        "else:\n",
        "    print(\"b is grater then a\")"
      ],
      "metadata": {
        "id": "lnss0zzzjjtI",
        "colab": {
          "base_uri": "https://localhost:8080/"
        },
        "outputId": "8a3b32b9-31a8-45ca-c5d4-68af3e0d161b"
      },
      "execution_count": null,
      "outputs": [
        {
          "output_type": "stream",
          "name": "stdout",
          "text": [
            "b is grater then a\n"
          ]
        }
      ]
    },
    {
      "cell_type": "code",
      "source": [
        "#HOME WORK PROBLEM CREDIT CARD\n",
        "\n",
        "name = input(\"Enter Your Name: \")\n",
        "age = input(\"Enter Your Age: \")\n",
        "\n",
        "age = int(age)\n",
        "print(\"Hello\", name,\"Your Age Is\", age)\n",
        "if age >= 18:\n",
        "    print(\"You Are Eligible For Credit Card\")\n",
        "else:\n",
        "    print(\"You Are Not Eligible For Credit Card\")\n",
        "\n"
      ],
      "metadata": {
        "colab": {
          "base_uri": "https://localhost:8080/"
        },
        "id": "spLbxkZLTb9z",
        "outputId": "f17eb5ad-d2c1-49cf-fc60-bc054e28e5af"
      },
      "execution_count": 6,
      "outputs": [
        {
          "output_type": "stream",
          "name": "stdout",
          "text": [
            "Enter Your Name: kushal\n",
            "Enter Your Age: 18\n",
            "Hello kushal Your Age Is 18\n",
            "You Are Eligible For Credit Card\n"
          ]
        }
      ]
    },
    {
      "cell_type": "code",
      "source": [
        "name = input(\"Enter Your Name: \")\n",
        "age = input(\"Enter Your Age: \")\n",
        "\n",
        "\n",
        "age = int(age)\n",
        "print(\"Hello,\", name, \"Your Age Is\", age)\n",
        "if age >= 18:\n",
        "    print(\"You Are Eligible For Credit Card\")\n",
        "elif age <= 18:\n",
        "    print(\"You Are Eligible For Debit Card\")\n",
        "else:\n",
        "    print(\"You Are Not Eligible For Credit Card\")"
      ],
      "metadata": {
        "colab": {
          "base_uri": "https://localhost:8080/"
        },
        "id": "s8qUWh2TUtyV",
        "outputId": "988b3810-71da-4219-8584-7d4365b1a9a2"
      },
      "execution_count": 7,
      "outputs": [
        {
          "output_type": "stream",
          "name": "stdout",
          "text": [
            "Enter Your Name: kushal\n",
            "Enter Your Age: 15\n",
            "Hello, kushal Your Age Is 15\n",
            "You Are Eligible For Debit Card\n"
          ]
        }
      ]
    },
    {
      "cell_type": "code",
      "source": [
        "name = input(\"Enter Your Name: \")\n",
        "age = input(\"Enter Your Age: \")\n",
        "phn = input(\"Enter Your Phone Number: \")\n",
        "\n",
        "\n",
        "age = int(age)\n",
        "print(\"Hello,\", name, \"Your Age Is\", age, ('Your Phone Number Is', phn))\n",
        "if age >= 18:\n",
        "    print(\"You Are Eligible For Credit Card\")\n",
        "else:\n",
        "    print(\"You Are Not Eligible For Credit Card\")"
      ],
      "metadata": {
        "colab": {
          "base_uri": "https://localhost:8080/"
        },
        "id": "o-QrZz-FTcMj",
        "outputId": "128b0a06-9298-4ec4-f286-33e8749f44e2"
      },
      "execution_count": null,
      "outputs": [
        {
          "output_type": "stream",
          "name": "stdout",
          "text": [
            "Enter Your Name: kalki\n",
            "Enter Your Age: 45\n",
            "Enter Your Phone Number: 9590212442\n",
            "Hello, kalki Your Age Is 45 ('Your Phone Number Is', '9590212442')\n",
            "You Are Eligible For Credit Card\n"
          ]
        }
      ]
    },
    {
      "cell_type": "code",
      "source": [
        "tup1 = (1,2,3,4,5)"
      ],
      "metadata": {
        "id": "RpDxBRTsTcdy"
      },
      "execution_count": null,
      "outputs": []
    },
    {
      "cell_type": "code",
      "source": [
        "if 2 in tup1:\n",
        "    print(\"2 is present\")\n",
        "else:\n",
        "    print(\"2 is not present\")"
      ],
      "metadata": {
        "colab": {
          "base_uri": "https://localhost:8080/"
        },
        "id": "1Uurf-1yarN4",
        "outputId": "9fe2e030-03fe-4f60-8b65-045e6a195fbd"
      },
      "execution_count": null,
      "outputs": [
        {
          "output_type": "stream",
          "name": "stdout",
          "text": [
            "2 is present\n"
          ]
        }
      ]
    },
    {
      "cell_type": "code",
      "source": [
        "if 10 in tup1:\n",
        "    print(\"10 is present\")\n",
        "else:\n",
        "    print(\"10 is not present\")"
      ],
      "metadata": {
        "colab": {
          "base_uri": "https://localhost:8080/"
        },
        "id": "_cIGcYejarnT",
        "outputId": "19bd6874-5d5c-4e9b-97a6-07966a95e379"
      },
      "execution_count": null,
      "outputs": [
        {
          "output_type": "stream",
          "name": "stdout",
          "text": [
            "10 is not present\n"
          ]
        }
      ]
    }
  ]
}